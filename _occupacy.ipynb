{
 "cells": [
  {
   "cell_type": "code",
   "execution_count": 234,
   "metadata": {},
   "outputs": [],
   "source": [
    "import numpy as np\n",
    "import geopy.distance\n",
    "import pandas as pd\n",
    "import ast\n",
    "import math\n",
    "import ast"
   ]
  },
  {
   "cell_type": "code",
   "execution_count": 235,
   "metadata": {},
   "outputs": [
    {
     "data": {
      "text/html": [
       "<div>\n",
       "<style scoped>\n",
       "    .dataframe tbody tr th:only-of-type {\n",
       "        vertical-align: middle;\n",
       "    }\n",
       "\n",
       "    .dataframe tbody tr th {\n",
       "        vertical-align: top;\n",
       "    }\n",
       "\n",
       "    .dataframe thead th {\n",
       "        text-align: right;\n",
       "    }\n",
       "</style>\n",
       "<table border=\"1\" class=\"dataframe\">\n",
       "  <thead>\n",
       "    <tr style=\"text-align: right;\">\n",
       "      <th></th>\n",
       "      <th>3a286bedc2bf2db640f38da2b0335db7117890cf</th>\n",
       "      <th>f4f79b81ea0d4ece112490f46cfbed4a4c98db84</th>\n",
       "      <th>6f898df83ae1b603a902ccad260df28097036819</th>\n",
       "      <th>f209f93c6e8769412c024c8dc57e40daebb0a32a</th>\n",
       "      <th>adc6588340d9fede626af3f9c7379d95d1c640ed</th>\n",
       "      <th>3fb3bb737c3bd049a542441223e0f80a5f360b6a</th>\n",
       "      <th>8148394ee144c5d6e2775e66afc23c32dc721af4</th>\n",
       "      <th>48f42da90dbe8031b139ab8b866df995175fdf57</th>\n",
       "      <th>5b600185656abb9631da18d40a29ae791ebedeba</th>\n",
       "      <th>5ecc12bef9a0ff4480a63f8212c749c804aa8d33</th>\n",
       "      <th>...</th>\n",
       "      <th>3c91e85cda097899ab49b5bd0b1db5b27ab47e48</th>\n",
       "      <th>bfabdf969a89e8410126c3ca0daa04da1f397cc1</th>\n",
       "      <th>e7c8e66416008a633c4e87ffe9dd4542ba7bd20d</th>\n",
       "      <th>a947a3f2bae2f43261c1f38fa91ace1b9218e6a4</th>\n",
       "      <th>0f1f2ab149857f40822727468b8fa2cd384f8d17</th>\n",
       "      <th>3b59ec7229d0035bc95b1c023f3305c66df26061</th>\n",
       "      <th>40a228835377fa6763c0e2ad0c99d76e7c674c11</th>\n",
       "      <th>5ffaf337beedcc5a167006b2b42a47efa0d92a78</th>\n",
       "      <th>f951d659e42009446f40ee523c20554601df7956</th>\n",
       "      <th>4655c72bfcb0fa0f62cd62bdc5bd70171a62d3ad</th>\n",
       "    </tr>\n",
       "    <tr>\n",
       "      <th>Unnamed: 0</th>\n",
       "      <th></th>\n",
       "      <th></th>\n",
       "      <th></th>\n",
       "      <th></th>\n",
       "      <th></th>\n",
       "      <th></th>\n",
       "      <th></th>\n",
       "      <th></th>\n",
       "      <th></th>\n",
       "      <th></th>\n",
       "      <th></th>\n",
       "      <th></th>\n",
       "      <th></th>\n",
       "      <th></th>\n",
       "      <th></th>\n",
       "      <th></th>\n",
       "      <th></th>\n",
       "      <th></th>\n",
       "      <th></th>\n",
       "      <th></th>\n",
       "      <th></th>\n",
       "    </tr>\n",
       "  </thead>\n",
       "  <tbody>\n",
       "    <tr>\n",
       "      <th>765</th>\n",
       "      <td>6.055730</td>\n",
       "      <td>6.120190</td>\n",
       "      <td>5.923750</td>\n",
       "      <td>6.269007</td>\n",
       "      <td>5.969711</td>\n",
       "      <td>5.858725</td>\n",
       "      <td>5.922811</td>\n",
       "      <td>5.867968</td>\n",
       "      <td>7.142998</td>\n",
       "      <td>6.975748</td>\n",
       "      <td>...</td>\n",
       "      <td>1.609530</td>\n",
       "      <td>1.564155</td>\n",
       "      <td>4.634472</td>\n",
       "      <td>3.051481</td>\n",
       "      <td>5.745422</td>\n",
       "      <td>5.369918</td>\n",
       "      <td>4.772653</td>\n",
       "      <td>4.656401</td>\n",
       "      <td>4.253934</td>\n",
       "      <td>4.042489</td>\n",
       "    </tr>\n",
       "    <tr>\n",
       "      <th>766</th>\n",
       "      <td>6.836234</td>\n",
       "      <td>6.923784</td>\n",
       "      <td>6.713312</td>\n",
       "      <td>7.027069</td>\n",
       "      <td>6.761206</td>\n",
       "      <td>6.641313</td>\n",
       "      <td>6.710581</td>\n",
       "      <td>6.652509</td>\n",
       "      <td>7.967392</td>\n",
       "      <td>7.769027</td>\n",
       "      <td>...</td>\n",
       "      <td>2.611028</td>\n",
       "      <td>2.591991</td>\n",
       "      <td>5.655664</td>\n",
       "      <td>3.941102</td>\n",
       "      <td>6.772538</td>\n",
       "      <td>6.365541</td>\n",
       "      <td>5.767354</td>\n",
       "      <td>5.644119</td>\n",
       "      <td>5.229604</td>\n",
       "      <td>5.013798</td>\n",
       "    </tr>\n",
       "    <tr>\n",
       "      <th>767</th>\n",
       "      <td>7.655416</td>\n",
       "      <td>7.750615</td>\n",
       "      <td>7.535927</td>\n",
       "      <td>7.837640</td>\n",
       "      <td>7.584360</td>\n",
       "      <td>7.461726</td>\n",
       "      <td>7.532593</td>\n",
       "      <td>7.473565</td>\n",
       "      <td>8.799199</td>\n",
       "      <td>8.590651</td>\n",
       "      <td>...</td>\n",
       "      <td>3.388978</td>\n",
       "      <td>3.413886</td>\n",
       "      <td>6.446478</td>\n",
       "      <td>4.795812</td>\n",
       "      <td>7.581378</td>\n",
       "      <td>7.109195</td>\n",
       "      <td>6.511967</td>\n",
       "      <td>6.379680</td>\n",
       "      <td>5.952126</td>\n",
       "      <td>5.732557</td>\n",
       "    </tr>\n",
       "    <tr>\n",
       "      <th>768</th>\n",
       "      <td>8.118027</td>\n",
       "      <td>8.213672</td>\n",
       "      <td>7.998783</td>\n",
       "      <td>8.299396</td>\n",
       "      <td>8.047246</td>\n",
       "      <td>7.924440</td>\n",
       "      <td>7.995411</td>\n",
       "      <td>7.936322</td>\n",
       "      <td>9.262355</td>\n",
       "      <td>9.053401</td>\n",
       "      <td>...</td>\n",
       "      <td>3.774006</td>\n",
       "      <td>3.826173</td>\n",
       "      <td>6.828609</td>\n",
       "      <td>5.254888</td>\n",
       "      <td>7.975053</td>\n",
       "      <td>7.458216</td>\n",
       "      <td>6.863045</td>\n",
       "      <td>6.725346</td>\n",
       "      <td>6.290998</td>\n",
       "      <td>6.069923</td>\n",
       "    </tr>\n",
       "    <tr>\n",
       "      <th>769</th>\n",
       "      <td>8.349182</td>\n",
       "      <td>8.443408</td>\n",
       "      <td>8.229322</td>\n",
       "      <td>8.531863</td>\n",
       "      <td>8.277691</td>\n",
       "      <td>8.155364</td>\n",
       "      <td>8.226061</td>\n",
       "      <td>8.167136</td>\n",
       "      <td>9.491049</td>\n",
       "      <td>9.284222</td>\n",
       "      <td>...</td>\n",
       "      <td>3.939466</td>\n",
       "      <td>4.008718</td>\n",
       "      <td>6.987848</td>\n",
       "      <td>5.474330</td>\n",
       "      <td>8.141071</td>\n",
       "      <td>7.596233</td>\n",
       "      <td>7.002868</td>\n",
       "      <td>6.862030</td>\n",
       "      <td>6.424112</td>\n",
       "      <td>6.202431</td>\n",
       "    </tr>\n",
       "  </tbody>\n",
       "</table>\n",
       "<p>5 rows × 326 columns</p>\n",
       "</div>"
      ],
      "text/plain": [
       "            3a286bedc2bf2db640f38da2b0335db7117890cf  \\\n",
       "Unnamed: 0                                             \n",
       "765                                         6.055730   \n",
       "766                                         6.836234   \n",
       "767                                         7.655416   \n",
       "768                                         8.118027   \n",
       "769                                         8.349182   \n",
       "\n",
       "            f4f79b81ea0d4ece112490f46cfbed4a4c98db84  \\\n",
       "Unnamed: 0                                             \n",
       "765                                         6.120190   \n",
       "766                                         6.923784   \n",
       "767                                         7.750615   \n",
       "768                                         8.213672   \n",
       "769                                         8.443408   \n",
       "\n",
       "            6f898df83ae1b603a902ccad260df28097036819  \\\n",
       "Unnamed: 0                                             \n",
       "765                                         5.923750   \n",
       "766                                         6.713312   \n",
       "767                                         7.535927   \n",
       "768                                         7.998783   \n",
       "769                                         8.229322   \n",
       "\n",
       "            f209f93c6e8769412c024c8dc57e40daebb0a32a  \\\n",
       "Unnamed: 0                                             \n",
       "765                                         6.269007   \n",
       "766                                         7.027069   \n",
       "767                                         7.837640   \n",
       "768                                         8.299396   \n",
       "769                                         8.531863   \n",
       "\n",
       "            adc6588340d9fede626af3f9c7379d95d1c640ed  \\\n",
       "Unnamed: 0                                             \n",
       "765                                         5.969711   \n",
       "766                                         6.761206   \n",
       "767                                         7.584360   \n",
       "768                                         8.047246   \n",
       "769                                         8.277691   \n",
       "\n",
       "            3fb3bb737c3bd049a542441223e0f80a5f360b6a  \\\n",
       "Unnamed: 0                                             \n",
       "765                                         5.858725   \n",
       "766                                         6.641313   \n",
       "767                                         7.461726   \n",
       "768                                         7.924440   \n",
       "769                                         8.155364   \n",
       "\n",
       "            8148394ee144c5d6e2775e66afc23c32dc721af4  \\\n",
       "Unnamed: 0                                             \n",
       "765                                         5.922811   \n",
       "766                                         6.710581   \n",
       "767                                         7.532593   \n",
       "768                                         7.995411   \n",
       "769                                         8.226061   \n",
       "\n",
       "            48f42da90dbe8031b139ab8b866df995175fdf57  \\\n",
       "Unnamed: 0                                             \n",
       "765                                         5.867968   \n",
       "766                                         6.652509   \n",
       "767                                         7.473565   \n",
       "768                                         7.936322   \n",
       "769                                         8.167136   \n",
       "\n",
       "            5b600185656abb9631da18d40a29ae791ebedeba  \\\n",
       "Unnamed: 0                                             \n",
       "765                                         7.142998   \n",
       "766                                         7.967392   \n",
       "767                                         8.799199   \n",
       "768                                         9.262355   \n",
       "769                                         9.491049   \n",
       "\n",
       "            5ecc12bef9a0ff4480a63f8212c749c804aa8d33  \\\n",
       "Unnamed: 0                                             \n",
       "765                                         6.975748   \n",
       "766                                         7.769027   \n",
       "767                                         8.590651   \n",
       "768                                         9.053401   \n",
       "769                                         9.284222   \n",
       "\n",
       "                              ...                     \\\n",
       "Unnamed: 0                    ...                      \n",
       "765                           ...                      \n",
       "766                           ...                      \n",
       "767                           ...                      \n",
       "768                           ...                      \n",
       "769                           ...                      \n",
       "\n",
       "            3c91e85cda097899ab49b5bd0b1db5b27ab47e48  \\\n",
       "Unnamed: 0                                             \n",
       "765                                         1.609530   \n",
       "766                                         2.611028   \n",
       "767                                         3.388978   \n",
       "768                                         3.774006   \n",
       "769                                         3.939466   \n",
       "\n",
       "            bfabdf969a89e8410126c3ca0daa04da1f397cc1  \\\n",
       "Unnamed: 0                                             \n",
       "765                                         1.564155   \n",
       "766                                         2.591991   \n",
       "767                                         3.413886   \n",
       "768                                         3.826173   \n",
       "769                                         4.008718   \n",
       "\n",
       "            e7c8e66416008a633c4e87ffe9dd4542ba7bd20d  \\\n",
       "Unnamed: 0                                             \n",
       "765                                         4.634472   \n",
       "766                                         5.655664   \n",
       "767                                         6.446478   \n",
       "768                                         6.828609   \n",
       "769                                         6.987848   \n",
       "\n",
       "            a947a3f2bae2f43261c1f38fa91ace1b9218e6a4  \\\n",
       "Unnamed: 0                                             \n",
       "765                                         3.051481   \n",
       "766                                         3.941102   \n",
       "767                                         4.795812   \n",
       "768                                         5.254888   \n",
       "769                                         5.474330   \n",
       "\n",
       "            0f1f2ab149857f40822727468b8fa2cd384f8d17  \\\n",
       "Unnamed: 0                                             \n",
       "765                                         5.745422   \n",
       "766                                         6.772538   \n",
       "767                                         7.581378   \n",
       "768                                         7.975053   \n",
       "769                                         8.141071   \n",
       "\n",
       "            3b59ec7229d0035bc95b1c023f3305c66df26061  \\\n",
       "Unnamed: 0                                             \n",
       "765                                         5.369918   \n",
       "766                                         6.365541   \n",
       "767                                         7.109195   \n",
       "768                                         7.458216   \n",
       "769                                         7.596233   \n",
       "\n",
       "            40a228835377fa6763c0e2ad0c99d76e7c674c11  \\\n",
       "Unnamed: 0                                             \n",
       "765                                         4.772653   \n",
       "766                                         5.767354   \n",
       "767                                         6.511967   \n",
       "768                                         6.863045   \n",
       "769                                         7.002868   \n",
       "\n",
       "            5ffaf337beedcc5a167006b2b42a47efa0d92a78  \\\n",
       "Unnamed: 0                                             \n",
       "765                                         4.656401   \n",
       "766                                         5.644119   \n",
       "767                                         6.379680   \n",
       "768                                         6.725346   \n",
       "769                                         6.862030   \n",
       "\n",
       "            f951d659e42009446f40ee523c20554601df7956  \\\n",
       "Unnamed: 0                                             \n",
       "765                                         4.253934   \n",
       "766                                         5.229604   \n",
       "767                                         5.952126   \n",
       "768                                         6.290998   \n",
       "769                                         6.424112   \n",
       "\n",
       "            4655c72bfcb0fa0f62cd62bdc5bd70171a62d3ad  \n",
       "Unnamed: 0                                            \n",
       "765                                         4.042489  \n",
       "766                                         5.013798  \n",
       "767                                         5.732557  \n",
       "768                                         6.069923  \n",
       "769                                         6.202431  \n",
       "\n",
       "[5 rows x 326 columns]"
      ]
     },
     "execution_count": 235,
     "metadata": {},
     "output_type": "execute_result"
    }
   ],
   "source": [
    "distance_df = pd.read_csv('distance_bus_stop_supermarket.csv')\n",
    "distance_df = distance_df.set_index('Unnamed: 0')\n",
    "distance_df.tail()"
   ]
  },
  {
   "cell_type": "code",
   "execution_count": 236,
   "metadata": {},
   "outputs": [],
   "source": [
    "def filterRadio(r,distance_df):\n",
    "    \"\"\"\n",
    "    Returns the dataframe filtered per r  \n",
    "    \"\"\"\n",
    "    return distance_df[distance_df<r] "
   ]
  },
  {
   "cell_type": "code",
   "execution_count": 237,
   "metadata": {},
   "outputs": [],
   "source": [
    "def busRCount(r, bus_id):\n",
    "    \"\"\"\n",
    "    Returns the number of supermarket that are located more than r kms from the bus stop.\n",
    "    \"\"\"\n",
    "    return sum(distance_df.loc[bus_id]<r)"
   ]
  },
  {
   "cell_type": "code",
   "execution_count": 238,
   "metadata": {},
   "outputs": [
    {
     "data": {
      "text/plain": [
       "325"
      ]
     },
     "execution_count": 238,
     "metadata": {},
     "output_type": "execute_result"
    }
   ],
   "source": [
    "busRCount(10, 4)"
   ]
  },
  {
   "cell_type": "code",
   "execution_count": 239,
   "metadata": {},
   "outputs": [],
   "source": [
    "# These are the columns\n",
    "#for i in distance_df:\n",
    "#    print(i) "
   ]
  },
  {
   "cell_type": "code",
   "execution_count": 240,
   "metadata": {},
   "outputs": [],
   "source": [
    "ind = [*(distance_df.index)]"
   ]
  },
  {
   "cell_type": "code",
   "execution_count": 241,
   "metadata": {},
   "outputs": [
    {
     "data": {
      "text/plain": [
       "[4, 5, 6, 7, 8]"
      ]
     },
     "execution_count": 241,
     "metadata": {},
     "output_type": "execute_result"
    }
   ],
   "source": [
    "ind[:5]"
   ]
  },
  {
   "cell_type": "code",
   "execution_count": 242,
   "metadata": {},
   "outputs": [],
   "source": [
    "list_sum_d=[]\n",
    "for index in ind:\n",
    "    try:\n",
    "        list_sum_d.append(sum(distance_df.iloc[index]<2))\n",
    "    except: \n",
    "        list_sum_d.append('missing')\n",
    "        "
   ]
  },
  {
   "cell_type": "code",
   "execution_count": 243,
   "metadata": {},
   "outputs": [],
   "source": [
    "cond = [list_sum_d[k]=='missing' for k in range(len(list_sum_d))]"
   ]
  },
  {
   "cell_type": "code",
   "execution_count": 278,
   "metadata": {},
   "outputs": [],
   "source": [
    "cond.index(True)\n",
    "num_supermarkets = len(distance_df.columns)"
   ]
  },
  {
   "cell_type": "code",
   "execution_count": 245,
   "metadata": {},
   "outputs": [],
   "source": [
    "ind_missing = list_sum_d.index('missing')"
   ]
  },
  {
   "cell_type": "code",
   "execution_count": 246,
   "metadata": {},
   "outputs": [
    {
     "data": {
      "text/plain": [
       "109"
      ]
     },
     "execution_count": 246,
     "metadata": {},
     "output_type": "execute_result"
    }
   ],
   "source": [
    "ind_missing"
   ]
  },
  {
   "cell_type": "code",
   "execution_count": 247,
   "metadata": {},
   "outputs": [
    {
     "data": {
      "text/plain": [
       "116"
      ]
     },
     "execution_count": 247,
     "metadata": {},
     "output_type": "execute_result"
    }
   ],
   "source": [
    "distance_df = distance_df.drop(distance_df.index[109])\n",
    "distance_df.index[109]"
   ]
  },
  {
   "cell_type": "markdown",
   "metadata": {},
   "source": [
    "list_sum_d=[]\n",
    "for index in ind[:150]:\n",
    "    list_sum_d.append(sum(distance_df.iloc[index]<2))"
   ]
  },
  {
   "cell_type": "code",
   "execution_count": 248,
   "metadata": {},
   "outputs": [
    {
     "name": "stdout",
     "output_type": "stream",
     "text": [
      "3a286bedc2bf2db640f38da2b0335db7117890cf    0.821349\n",
      "f4f79b81ea0d4ece112490f46cfbed4a4c98db84    0.792169\n",
      "6f898df83ae1b603a902ccad260df28097036819    0.956015\n",
      "Name: 116, dtype: float64\n",
      "3a286bedc2bf2db640f38da2b0335db7117890cf    0.821349\n",
      "f4f79b81ea0d4ece112490f46cfbed4a4c98db84    0.792169\n",
      "6f898df83ae1b603a902ccad260df28097036819    0.956015\n",
      "Name: 116, dtype: float64\n"
     ]
    }
   ],
   "source": [
    "print(distance_df.loc[116][:3])\n",
    "print(distance_df.iloc[109][:3])"
   ]
  },
  {
   "cell_type": "code",
   "execution_count": 249,
   "metadata": {},
   "outputs": [],
   "source": [
    "#distance_df = distance_df.drop(117)#.loc[117]\n",
    "#distance_df.loc[117]"
   ]
  },
  {
   "cell_type": "code",
   "execution_count": 250,
   "metadata": {},
   "outputs": [],
   "source": [
    "def funcNumSupPerBus(r):\n",
    "    list_sum_d=[]\n",
    "    for index in ind:\n",
    "        try:\n",
    "            list_sum_d.append(sum(distance_df.loc[index]<r))\n",
    "        except: \n",
    "            list_sum_d.append('missing')\n",
    "    return list_sum_d"
   ]
  },
  {
   "cell_type": "code",
   "execution_count": 251,
   "metadata": {},
   "outputs": [],
   "source": [
    "list_sum_d = funcNumSupPerBus(1)"
   ]
  },
  {
   "cell_type": "code",
   "execution_count": 252,
   "metadata": {},
   "outputs": [
    {
     "data": {
      "text/plain": [
       "109"
      ]
     },
     "execution_count": 252,
     "metadata": {},
     "output_type": "execute_result"
    }
   ],
   "source": [
    "list_sum_d.index('missing')"
   ]
  },
  {
   "cell_type": "code",
   "execution_count": 253,
   "metadata": {},
   "outputs": [
    {
     "data": {
      "text/plain": [
       "[6, 5, 2, 2, 0]"
      ]
     },
     "execution_count": 253,
     "metadata": {},
     "output_type": "execute_result"
    }
   ],
   "source": [
    "list_sum_d[:5]\n"
   ]
  },
  {
   "cell_type": "code",
   "execution_count": 254,
   "metadata": {},
   "outputs": [],
   "source": [
    "df_num_sup_per_bas = pd.DataFrame(index = ind)"
   ]
  },
  {
   "cell_type": "code",
   "execution_count": 255,
   "metadata": {},
   "outputs": [
    {
     "data": {
      "text/plain": [
       "746"
      ]
     },
     "execution_count": 255,
     "metadata": {},
     "output_type": "execute_result"
    }
   ],
   "source": [
    "len(df_num_sup_per_bas)"
   ]
  },
  {
   "cell_type": "code",
   "execution_count": 256,
   "metadata": {},
   "outputs": [
    {
     "data": {
      "text/plain": [
       "746"
      ]
     },
     "execution_count": 256,
     "metadata": {},
     "output_type": "execute_result"
    }
   ],
   "source": [
    "len(funcNumSupPerBus(1))"
   ]
  },
  {
   "cell_type": "code",
   "execution_count": 257,
   "metadata": {},
   "outputs": [],
   "source": [
    "df_num_sup_per_bas['r=1']=funcNumSupPerBus(1)"
   ]
  },
  {
   "cell_type": "code",
   "execution_count": 258,
   "metadata": {},
   "outputs": [],
   "source": [
    "df_num_sup_per_bas['r=2']=funcNumSupPerBus(2)"
   ]
  },
  {
   "cell_type": "code",
   "execution_count": 259,
   "metadata": {},
   "outputs": [],
   "source": [
    "df_num_sup_per_bas['r=3']=funcNumSupPerBus(3)"
   ]
  },
  {
   "cell_type": "code",
   "execution_count": 260,
   "metadata": {},
   "outputs": [],
   "source": [
    "df_num_sup_per_bas['r=4']=funcNumSupPerBus(4)"
   ]
  },
  {
   "cell_type": "code",
   "execution_count": 261,
   "metadata": {},
   "outputs": [],
   "source": [
    "df_num_sup_per_bas['r=5']=funcNumSupPerBus(5)"
   ]
  },
  {
   "cell_type": "code",
   "execution_count": 262,
   "metadata": {},
   "outputs": [
    {
     "data": {
      "text/html": [
       "<div>\n",
       "<style scoped>\n",
       "    .dataframe tbody tr th:only-of-type {\n",
       "        vertical-align: middle;\n",
       "    }\n",
       "\n",
       "    .dataframe tbody tr th {\n",
       "        vertical-align: top;\n",
       "    }\n",
       "\n",
       "    .dataframe thead th {\n",
       "        text-align: right;\n",
       "    }\n",
       "</style>\n",
       "<table border=\"1\" class=\"dataframe\">\n",
       "  <thead>\n",
       "    <tr style=\"text-align: right;\">\n",
       "      <th></th>\n",
       "      <th>r=1</th>\n",
       "      <th>r=2</th>\n",
       "      <th>r=3</th>\n",
       "      <th>r=4</th>\n",
       "      <th>r=5</th>\n",
       "    </tr>\n",
       "  </thead>\n",
       "  <tbody>\n",
       "    <tr>\n",
       "      <th>4</th>\n",
       "      <td>6</td>\n",
       "      <td>25</td>\n",
       "      <td>62</td>\n",
       "      <td>126</td>\n",
       "      <td>174</td>\n",
       "    </tr>\n",
       "    <tr>\n",
       "      <th>5</th>\n",
       "      <td>5</td>\n",
       "      <td>13</td>\n",
       "      <td>49</td>\n",
       "      <td>82</td>\n",
       "      <td>150</td>\n",
       "    </tr>\n",
       "    <tr>\n",
       "      <th>6</th>\n",
       "      <td>2</td>\n",
       "      <td>10</td>\n",
       "      <td>42</td>\n",
       "      <td>69</td>\n",
       "      <td>126</td>\n",
       "    </tr>\n",
       "    <tr>\n",
       "      <th>7</th>\n",
       "      <td>2</td>\n",
       "      <td>8</td>\n",
       "      <td>27</td>\n",
       "      <td>55</td>\n",
       "      <td>105</td>\n",
       "    </tr>\n",
       "    <tr>\n",
       "      <th>8</th>\n",
       "      <td>0</td>\n",
       "      <td>2</td>\n",
       "      <td>18</td>\n",
       "      <td>49</td>\n",
       "      <td>81</td>\n",
       "    </tr>\n",
       "  </tbody>\n",
       "</table>\n",
       "</div>"
      ],
      "text/plain": [
       "  r=1 r=2 r=3  r=4  r=5\n",
       "4   6  25  62  126  174\n",
       "5   5  13  49   82  150\n",
       "6   2  10  42   69  126\n",
       "7   2   8  27   55  105\n",
       "8   0   2  18   49   81"
      ]
     },
     "execution_count": 262,
     "metadata": {},
     "output_type": "execute_result"
    }
   ],
   "source": [
    "df_num_sup_per_bas.head()"
   ]
  },
  {
   "cell_type": "code",
   "execution_count": 263,
   "metadata": {},
   "outputs": [],
   "source": [
    "bus_stop_df = pd.read_csv('bus_stop_swiss_coord.csv')"
   ]
  },
  {
   "cell_type": "code",
   "execution_count": 264,
   "metadata": {},
   "outputs": [],
   "source": [
    "df_num_sup_per_bas['Occupacy'] = bus_stop_df['Occupancy']"
   ]
  },
  {
   "cell_type": "code",
   "execution_count": 265,
   "metadata": {},
   "outputs": [
    {
     "data": {
      "text/html": [
       "<div>\n",
       "<style scoped>\n",
       "    .dataframe tbody tr th:only-of-type {\n",
       "        vertical-align: middle;\n",
       "    }\n",
       "\n",
       "    .dataframe tbody tr th {\n",
       "        vertical-align: top;\n",
       "    }\n",
       "\n",
       "    .dataframe thead th {\n",
       "        text-align: right;\n",
       "    }\n",
       "</style>\n",
       "<table border=\"1\" class=\"dataframe\">\n",
       "  <thead>\n",
       "    <tr style=\"text-align: right;\">\n",
       "      <th></th>\n",
       "      <th>r=1</th>\n",
       "      <th>r=2</th>\n",
       "      <th>r=3</th>\n",
       "      <th>r=4</th>\n",
       "      <th>r=5</th>\n",
       "      <th>Occupacy</th>\n",
       "    </tr>\n",
       "  </thead>\n",
       "  <tbody>\n",
       "    <tr>\n",
       "      <th>4</th>\n",
       "      <td>6</td>\n",
       "      <td>25</td>\n",
       "      <td>62</td>\n",
       "      <td>126</td>\n",
       "      <td>174</td>\n",
       "      <td>16.697302</td>\n",
       "    </tr>\n",
       "    <tr>\n",
       "      <th>5</th>\n",
       "      <td>5</td>\n",
       "      <td>13</td>\n",
       "      <td>49</td>\n",
       "      <td>82</td>\n",
       "      <td>150</td>\n",
       "      <td>14.369453</td>\n",
       "    </tr>\n",
       "    <tr>\n",
       "      <th>6</th>\n",
       "      <td>2</td>\n",
       "      <td>10</td>\n",
       "      <td>42</td>\n",
       "      <td>69</td>\n",
       "      <td>126</td>\n",
       "      <td>12.944104</td>\n",
       "    </tr>\n",
       "    <tr>\n",
       "      <th>7</th>\n",
       "      <td>2</td>\n",
       "      <td>8</td>\n",
       "      <td>27</td>\n",
       "      <td>55</td>\n",
       "      <td>105</td>\n",
       "      <td>12.088458</td>\n",
       "    </tr>\n",
       "    <tr>\n",
       "      <th>8</th>\n",
       "      <td>0</td>\n",
       "      <td>2</td>\n",
       "      <td>18</td>\n",
       "      <td>49</td>\n",
       "      <td>81</td>\n",
       "      <td>11.357687</td>\n",
       "    </tr>\n",
       "  </tbody>\n",
       "</table>\n",
       "</div>"
      ],
      "text/plain": [
       "  r=1 r=2 r=3  r=4  r=5   Occupacy\n",
       "4   6  25  62  126  174  16.697302\n",
       "5   5  13  49   82  150  14.369453\n",
       "6   2  10  42   69  126  12.944104\n",
       "7   2   8  27   55  105  12.088458\n",
       "8   0   2  18   49   81  11.357687"
      ]
     },
     "execution_count": 265,
     "metadata": {},
     "output_type": "execute_result"
    }
   ],
   "source": [
    "df_num_sup_per_bas.head()"
   ]
  },
  {
   "cell_type": "code",
   "execution_count": 266,
   "metadata": {},
   "outputs": [
    {
     "data": {
      "text/plain": [
       "Index(['Unnamed: 0', 'Stop_Id', 'Stop_Number', 'Haltestellenkurzname',\n",
       "       'Haltestellenlangname', 'Occupancy', 'NHSTID', 'Y_KOORD', 'X_KOORD',\n",
       "       'CHSTNAME', 'CNAME', 'VTYP', 'HSTTYP', 'HAFAS_PRIO', 'LINKTEXT',\n",
       "       'ZONEN', 'SYMB_CODE', 'SYMB_TEXT', 'LINIEN', 'E', 'N', 'E_global',\n",
       "       'N_global'],\n",
       "      dtype='object')"
      ]
     },
     "execution_count": 266,
     "metadata": {},
     "output_type": "execute_result"
    }
   ],
   "source": [
    "bus_stop_df.columns"
   ]
  },
  {
   "cell_type": "code",
   "execution_count": 267,
   "metadata": {},
   "outputs": [],
   "source": [
    "df_num_sup_per_bas['Bus Stop Name'] = bus_stop_df['Haltestellenlangname']"
   ]
  },
  {
   "cell_type": "code",
   "execution_count": 268,
   "metadata": {},
   "outputs": [
    {
     "data": {
      "text/html": [
       "<div>\n",
       "<style scoped>\n",
       "    .dataframe tbody tr th:only-of-type {\n",
       "        vertical-align: middle;\n",
       "    }\n",
       "\n",
       "    .dataframe tbody tr th {\n",
       "        vertical-align: top;\n",
       "    }\n",
       "\n",
       "    .dataframe thead th {\n",
       "        text-align: right;\n",
       "    }\n",
       "</style>\n",
       "<table border=\"1\" class=\"dataframe\">\n",
       "  <thead>\n",
       "    <tr style=\"text-align: right;\">\n",
       "      <th></th>\n",
       "      <th>r=1</th>\n",
       "      <th>r=2</th>\n",
       "      <th>r=3</th>\n",
       "      <th>r=4</th>\n",
       "      <th>r=5</th>\n",
       "      <th>Occupacy</th>\n",
       "      <th>Bus Stop Name</th>\n",
       "      <th>E_global</th>\n",
       "      <th>N_global</th>\n",
       "    </tr>\n",
       "  </thead>\n",
       "  <tbody>\n",
       "    <tr>\n",
       "      <th>4</th>\n",
       "      <td>6</td>\n",
       "      <td>25</td>\n",
       "      <td>62</td>\n",
       "      <td>126</td>\n",
       "      <td>174</td>\n",
       "      <td>16.697302</td>\n",
       "      <td>Zollikon, Beugi</td>\n",
       "      <td>47.336475</td>\n",
       "      <td>8.575071</td>\n",
       "    </tr>\n",
       "    <tr>\n",
       "      <th>5</th>\n",
       "      <td>5</td>\n",
       "      <td>13</td>\n",
       "      <td>49</td>\n",
       "      <td>82</td>\n",
       "      <td>150</td>\n",
       "      <td>14.369453</td>\n",
       "      <td>Zollikon, Goldhaldenplatz</td>\n",
       "      <td>47.334920</td>\n",
       "      <td>8.577710</td>\n",
       "    </tr>\n",
       "    <tr>\n",
       "      <th>6</th>\n",
       "      <td>2</td>\n",
       "      <td>10</td>\n",
       "      <td>42</td>\n",
       "      <td>69</td>\n",
       "      <td>126</td>\n",
       "      <td>12.944104</td>\n",
       "      <td>Küsnacht ZH, Bühlstrasse</td>\n",
       "      <td>47.331906</td>\n",
       "      <td>8.579631</td>\n",
       "    </tr>\n",
       "    <tr>\n",
       "      <th>7</th>\n",
       "      <td>2</td>\n",
       "      <td>8</td>\n",
       "      <td>27</td>\n",
       "      <td>55</td>\n",
       "      <td>105</td>\n",
       "      <td>12.088458</td>\n",
       "      <td>Küsnacht ZH, Goldbacherstrasse</td>\n",
       "      <td>47.329226</td>\n",
       "      <td>8.580473</td>\n",
       "    </tr>\n",
       "    <tr>\n",
       "      <th>8</th>\n",
       "      <td>0</td>\n",
       "      <td>2</td>\n",
       "      <td>18</td>\n",
       "      <td>49</td>\n",
       "      <td>81</td>\n",
       "      <td>11.357687</td>\n",
       "      <td>Küsnacht ZH, Boglerenstrasse</td>\n",
       "      <td>47.326257</td>\n",
       "      <td>8.582341</td>\n",
       "    </tr>\n",
       "  </tbody>\n",
       "</table>\n",
       "</div>"
      ],
      "text/plain": [
       "  r=1 r=2 r=3  r=4  r=5   Occupacy                   Bus Stop Name   E_global  \\\n",
       "4   6  25  62  126  174  16.697302                 Zollikon, Beugi  47.336475   \n",
       "5   5  13  49   82  150  14.369453       Zollikon, Goldhaldenplatz  47.334920   \n",
       "6   2  10  42   69  126  12.944104        Küsnacht ZH, Bühlstrasse  47.331906   \n",
       "7   2   8  27   55  105  12.088458  Küsnacht ZH, Goldbacherstrasse  47.329226   \n",
       "8   0   2  18   49   81  11.357687    Küsnacht ZH, Boglerenstrasse  47.326257   \n",
       "\n",
       "   N_global  \n",
       "4  8.575071  \n",
       "5  8.577710  \n",
       "6  8.579631  \n",
       "7  8.580473  \n",
       "8  8.582341  "
      ]
     },
     "execution_count": 268,
     "metadata": {},
     "output_type": "execute_result"
    }
   ],
   "source": [
    "df_num_sup_per_bas['E_global'] = bus_stop_df['E_global']\n",
    "df_num_sup_per_bas['N_global'] = bus_stop_df['N_global']\n",
    "df_num_sup_per_bas.head()"
   ]
  },
  {
   "cell_type": "code",
   "execution_count": 269,
   "metadata": {},
   "outputs": [],
   "source": [
    "col = ['Bus Stop Name', 'E_global', 'N_global', 'Occupacy', 'r=1', 'r=2', 'r=3', 'r=4', 'r=5']"
   ]
  },
  {
   "cell_type": "code",
   "execution_count": 270,
   "metadata": {},
   "outputs": [],
   "source": [
    "df_num_sup_per_bas = df_num_sup_per_bas[col]"
   ]
  },
  {
   "cell_type": "code",
   "execution_count": 271,
   "metadata": {},
   "outputs": [
    {
     "data": {
      "text/html": [
       "<div>\n",
       "<style scoped>\n",
       "    .dataframe tbody tr th:only-of-type {\n",
       "        vertical-align: middle;\n",
       "    }\n",
       "\n",
       "    .dataframe tbody tr th {\n",
       "        vertical-align: top;\n",
       "    }\n",
       "\n",
       "    .dataframe thead th {\n",
       "        text-align: right;\n",
       "    }\n",
       "</style>\n",
       "<table border=\"1\" class=\"dataframe\">\n",
       "  <thead>\n",
       "    <tr style=\"text-align: right;\">\n",
       "      <th></th>\n",
       "      <th>Bus Stop Name</th>\n",
       "      <th>E_global</th>\n",
       "      <th>N_global</th>\n",
       "      <th>Occupacy</th>\n",
       "      <th>r=1</th>\n",
       "      <th>r=2</th>\n",
       "      <th>r=3</th>\n",
       "      <th>r=4</th>\n",
       "      <th>r=5</th>\n",
       "    </tr>\n",
       "  </thead>\n",
       "  <tbody>\n",
       "    <tr>\n",
       "      <th>4</th>\n",
       "      <td>Zollikon, Beugi</td>\n",
       "      <td>47.336475</td>\n",
       "      <td>8.575071</td>\n",
       "      <td>16.697302</td>\n",
       "      <td>6</td>\n",
       "      <td>25</td>\n",
       "      <td>62</td>\n",
       "      <td>126</td>\n",
       "      <td>174</td>\n",
       "    </tr>\n",
       "    <tr>\n",
       "      <th>5</th>\n",
       "      <td>Zollikon, Goldhaldenplatz</td>\n",
       "      <td>47.334920</td>\n",
       "      <td>8.577710</td>\n",
       "      <td>14.369453</td>\n",
       "      <td>5</td>\n",
       "      <td>13</td>\n",
       "      <td>49</td>\n",
       "      <td>82</td>\n",
       "      <td>150</td>\n",
       "    </tr>\n",
       "    <tr>\n",
       "      <th>6</th>\n",
       "      <td>Küsnacht ZH, Bühlstrasse</td>\n",
       "      <td>47.331906</td>\n",
       "      <td>8.579631</td>\n",
       "      <td>12.944104</td>\n",
       "      <td>2</td>\n",
       "      <td>10</td>\n",
       "      <td>42</td>\n",
       "      <td>69</td>\n",
       "      <td>126</td>\n",
       "    </tr>\n",
       "    <tr>\n",
       "      <th>7</th>\n",
       "      <td>Küsnacht ZH, Goldbacherstrasse</td>\n",
       "      <td>47.329226</td>\n",
       "      <td>8.580473</td>\n",
       "      <td>12.088458</td>\n",
       "      <td>2</td>\n",
       "      <td>8</td>\n",
       "      <td>27</td>\n",
       "      <td>55</td>\n",
       "      <td>105</td>\n",
       "    </tr>\n",
       "    <tr>\n",
       "      <th>8</th>\n",
       "      <td>Küsnacht ZH, Boglerenstrasse</td>\n",
       "      <td>47.326257</td>\n",
       "      <td>8.582341</td>\n",
       "      <td>11.357687</td>\n",
       "      <td>0</td>\n",
       "      <td>2</td>\n",
       "      <td>18</td>\n",
       "      <td>49</td>\n",
       "      <td>81</td>\n",
       "    </tr>\n",
       "  </tbody>\n",
       "</table>\n",
       "</div>"
      ],
      "text/plain": [
       "                    Bus Stop Name   E_global  N_global   Occupacy r=1 r=2 r=3  \\\n",
       "4                 Zollikon, Beugi  47.336475  8.575071  16.697302   6  25  62   \n",
       "5       Zollikon, Goldhaldenplatz  47.334920  8.577710  14.369453   5  13  49   \n",
       "6        Küsnacht ZH, Bühlstrasse  47.331906  8.579631  12.944104   2  10  42   \n",
       "7  Küsnacht ZH, Goldbacherstrasse  47.329226  8.580473  12.088458   2   8  27   \n",
       "8    Küsnacht ZH, Boglerenstrasse  47.326257  8.582341  11.357687   0   2  18   \n",
       "\n",
       "   r=4  r=5  \n",
       "4  126  174  \n",
       "5   82  150  \n",
       "6   69  126  \n",
       "7   55  105  \n",
       "8   49   81  "
      ]
     },
     "execution_count": 271,
     "metadata": {},
     "output_type": "execute_result"
    }
   ],
   "source": [
    "df_num_sup_per_bas.head()"
   ]
  },
  {
   "cell_type": "code",
   "execution_count": 272,
   "metadata": {},
   "outputs": [],
   "source": [
    "df_num_sup_per_bas.sort_values(by='Occupacy', axis=0, inplace=True, ascending=False)"
   ]
  },
  {
   "cell_type": "code",
   "execution_count": 273,
   "metadata": {},
   "outputs": [
    {
     "data": {
      "text/html": [
       "<div>\n",
       "<style scoped>\n",
       "    .dataframe tbody tr th:only-of-type {\n",
       "        vertical-align: middle;\n",
       "    }\n",
       "\n",
       "    .dataframe tbody tr th {\n",
       "        vertical-align: top;\n",
       "    }\n",
       "\n",
       "    .dataframe thead th {\n",
       "        text-align: right;\n",
       "    }\n",
       "</style>\n",
       "<table border=\"1\" class=\"dataframe\">\n",
       "  <thead>\n",
       "    <tr style=\"text-align: right;\">\n",
       "      <th></th>\n",
       "      <th>Bus Stop Name</th>\n",
       "      <th>E_global</th>\n",
       "      <th>N_global</th>\n",
       "      <th>Occupacy</th>\n",
       "      <th>r=1</th>\n",
       "      <th>r=2</th>\n",
       "      <th>r=3</th>\n",
       "      <th>r=4</th>\n",
       "      <th>r=5</th>\n",
       "    </tr>\n",
       "  </thead>\n",
       "  <tbody>\n",
       "    <tr>\n",
       "      <th>215</th>\n",
       "      <td>Zürich, Letzigrund</td>\n",
       "      <td>47.381232</td>\n",
       "      <td>8.503729</td>\n",
       "      <td>55.478367</td>\n",
       "      <td>41</td>\n",
       "      <td>110</td>\n",
       "      <td>185</td>\n",
       "      <td>226</td>\n",
       "      <td>272</td>\n",
       "    </tr>\n",
       "    <tr>\n",
       "      <th>206</th>\n",
       "      <td>Zürich, Bezirksgebäude</td>\n",
       "      <td>47.374165</td>\n",
       "      <td>8.525555</td>\n",
       "      <td>53.227975</td>\n",
       "      <td>0</td>\n",
       "      <td>0</td>\n",
       "      <td>0</td>\n",
       "      <td>0</td>\n",
       "      <td>0</td>\n",
       "    </tr>\n",
       "    <tr>\n",
       "      <th>213</th>\n",
       "      <td>Zürich, Lochergut</td>\n",
       "      <td>47.375410</td>\n",
       "      <td>8.517503</td>\n",
       "      <td>52.016928</td>\n",
       "      <td>0</td>\n",
       "      <td>0</td>\n",
       "      <td>2</td>\n",
       "      <td>6</td>\n",
       "      <td>34</td>\n",
       "    </tr>\n",
       "    <tr>\n",
       "      <th>308</th>\n",
       "      <td>Zürich, Museum Rietberg</td>\n",
       "      <td>47.360715</td>\n",
       "      <td>8.531556</td>\n",
       "      <td>51.742022</td>\n",
       "      <td>5</td>\n",
       "      <td>35</td>\n",
       "      <td>60</td>\n",
       "      <td>108</td>\n",
       "      <td>190</td>\n",
       "    </tr>\n",
       "    <tr>\n",
       "      <th>108</th>\n",
       "      <td>Zürich, Rennweg</td>\n",
       "      <td>47.373101</td>\n",
       "      <td>8.538272</td>\n",
       "      <td>51.417145</td>\n",
       "      <td>21</td>\n",
       "      <td>95</td>\n",
       "      <td>163</td>\n",
       "      <td>244</td>\n",
       "      <td>287</td>\n",
       "    </tr>\n",
       "  </tbody>\n",
       "</table>\n",
       "</div>"
      ],
      "text/plain": [
       "               Bus Stop Name   E_global  N_global   Occupacy r=1  r=2  r=3  \\\n",
       "215       Zürich, Letzigrund  47.381232  8.503729  55.478367  41  110  185   \n",
       "206   Zürich, Bezirksgebäude  47.374165  8.525555  53.227975   0    0    0   \n",
       "213        Zürich, Lochergut  47.375410  8.517503  52.016928   0    0    2   \n",
       "308  Zürich, Museum Rietberg  47.360715  8.531556  51.742022   5   35   60   \n",
       "108          Zürich, Rennweg  47.373101  8.538272  51.417145  21   95  163   \n",
       "\n",
       "     r=4  r=5  \n",
       "215  226  272  \n",
       "206    0    0  \n",
       "213    6   34  \n",
       "308  108  190  \n",
       "108  244  287  "
      ]
     },
     "execution_count": 273,
     "metadata": {},
     "output_type": "execute_result"
    }
   ],
   "source": [
    "df_num_sup_per_bas.head()"
   ]
  },
  {
   "cell_type": "code",
   "execution_count": 274,
   "metadata": {},
   "outputs": [],
   "source": [
    "df_num_sup_per_bas.to_csv('supermakets_per_bus_stop_occupacy.csv', index=False)"
   ]
  },
  {
   "cell_type": "code",
   "execution_count": 275,
   "metadata": {},
   "outputs": [
    {
     "data": {
      "text/plain": [
       "9"
      ]
     },
     "execution_count": 275,
     "metadata": {},
     "output_type": "execute_result"
    }
   ],
   "source": [
    "len(df_num_sup_per_bas.columns)"
   ]
  },
  {
   "cell_type": "code",
   "execution_count": null,
   "metadata": {},
   "outputs": [],
   "source": []
  }
 ],
 "metadata": {
  "kernelspec": {
   "display_name": "Python 3",
   "language": "python",
   "name": "python3"
  },
  "language_info": {
   "codemirror_mode": {
    "name": "ipython",
    "version": 3
   },
   "file_extension": ".py",
   "mimetype": "text/x-python",
   "name": "python",
   "nbconvert_exporter": "python",
   "pygments_lexer": "ipython3",
   "version": "3.7.1"
  }
 },
 "nbformat": 4,
 "nbformat_minor": 2
}
